{
 "cells": [
  {
   "cell_type": "code",
   "execution_count": 1,
   "metadata": {},
   "outputs": [
    {
     "data": {
      "application/vnd.jupyter.widget-view+json": {
       "model_id": "3e8ad45cbf834fcf9c2db5b8e78d6f2c",
       "version_major": 2,
       "version_minor": 0
      },
      "text/plain": [
       "interactive(children=(IntSlider(value=30, description='Years:', max=50, min=5), IntSlider(value=3000, descript…"
      ]
     },
     "execution_count": 1,
     "metadata": {},
     "output_type": "execute_result"
    }
   ],
   "source": [
    "\n",
    "import matplotlib.pyplot as plt\n",
    "import numpy as np\n",
    "import ipywidgets as widgets\n",
    "from IPython.display import display\n",
    "\n",
    "# Function to update the graph based on input parameters\n",
    "def update_graph(years, annual_medical_expense, hsa_return_rate, tax_rate):\n",
    "    annual_hsa_contribution = annual_medical_expense\n",
    "    hsa_balance = np.zeros(years)\n",
    "    taxable_cost = np.zeros(years)\n",
    "\n",
    "    for year in range(years):\n",
    "        if year > 0:\n",
    "            hsa_balance[year] = hsa_balance[year - 1] * (1 + hsa_return_rate) + annual_hsa_contribution\n",
    "        taxable_cost[year] = (annual_medical_expense / (1 - tax_rate)) * (year + 1)\n",
    "\n",
    "    plt.figure(figsize=(10, 6))\n",
    "    plt.plot(hsa_balance, label='HSA Account Balance', color='green')\n",
    "    plt.plot(taxable_cost, label='Total Cost from Taxable Income', color='red')\n",
    "    plt.xlabel('Years')\n",
    "    plt.ylabel('Dollars')\n",
    "    plt.title('HSA Investment vs. Paying Medical Expenses with Taxable Income')\n",
    "    plt.legend()\n",
    "    plt.grid(True)\n",
    "    plt.show()\n",
    "\n",
    "# Create interactive widgets\n",
    "years_widget = widgets.IntSlider(value=30, min=5, max=50, step=1, description='Years:')\n",
    "expense_widget = widgets.IntSlider(value=3000, min=500, max=10000, step=500, description='Annual Medical Expense:')\n",
    "return_widget = widgets.FloatSlider(value=0.05, min=0, max=0.15, step=0.01, description='HSA Return Rate:')\n",
    "tax_rate_widget = widgets.FloatSlider(value=0.25, min=0, max=0.5, step=0.01, description='Tax Rate:')\n",
    "\n",
    "# Display widgets\n",
    "widgets.interactive(update_graph, \n",
    "                    years=years_widget, \n",
    "                    annual_medical_expense=expense_widget, \n",
    "                    hsa_return_rate=return_widget, \n",
    "                    tax_rate=tax_rate_widget)\n"
   ]
  }
 ],
 "metadata": {
  "kernelspec": {
   "display_name": "venv",
   "language": "python",
   "name": "python3"
  },
  "language_info": {
   "codemirror_mode": {
    "name": "ipython",
    "version": 3
   },
   "file_extension": ".py",
   "mimetype": "text/x-python",
   "name": "python",
   "nbconvert_exporter": "python",
   "pygments_lexer": "ipython3",
   "version": "3.11.2"
  }
 },
 "nbformat": 4,
 "nbformat_minor": 2
}
