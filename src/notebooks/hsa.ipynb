{
 "cells": [
  {
   "cell_type": "code",
   "execution_count": 9,
   "metadata": {},
   "outputs": [
    {
     "data": {
      "application/vnd.jupyter.widget-view+json": {
       "model_id": "547dfcc859ae44a6a8c766440db4cfe2",
       "version_major": 2,
       "version_minor": 0
      },
      "text/plain": [
       "interactive(children=(IntSlider(value=30, description='Years:', max=1000, min=5), IntSlider(value=3000, descri…"
      ]
     },
     "execution_count": 9,
     "metadata": {},
     "output_type": "execute_result"
    }
   ],
   "source": [
    "import matplotlib.pyplot as plt\n",
    "import numpy as np\n",
    "import ipywidgets as widgets\n",
    "from IPython.display import display\n",
    "\n",
    "# Function to update the graph based on input parameters\n",
    "def update_graph(years:int, annual_medical_expense:int, hsa_return_rate:float, tax_rate:float, hsa_withdrawal_rate:int, hsa_contribution:int):\n",
    "\n",
    "    hsa_balance = np.zeros(years)\n",
    "    taxable_cost = np.zeros(years)\n",
    "\n",
    "    for year in range(years):\n",
    "        if year > 0:\n",
    "            hsa_balance[year] = hsa_balance[year - 1] * (1 + hsa_return_rate) + hsa_contribution-hsa_withdrawal_rate\n",
    "        taxable_cost[year] = ((annual_medical_expense) / (1 - tax_rate)) * (year + 1)\n",
    "\n",
    "    plt.figure(figsize=(10, 6))\n",
    "    plt.plot(hsa_balance, label='HSA Account Balance', color='green')\n",
    "    plt.plot(taxable_cost, label='Total Cost from Taxable Income', color='red')\n",
    "    plt.xlabel('Years')\n",
    "    plt.ylabel('Dollars')\n",
    "    plt.title('HSA Investment vs. Paying Medical Expenses with Taxable Income')\n",
    "    plt.legend()\n",
    "    plt.grid(True)\n",
    "    plt.show()\n",
    "\n",
    "# Create interactive widgets\n",
    "years_widget = widgets.IntSlider(value=30, min=5, max=50, step=1, description='Years:')\n",
    "expense_widget = widgets.IntSlider(value=3000, min=500, max=10000, step=500, description='Annual Medical Expense:')\n",
    "return_widget = widgets.FloatSlider(value=0.05, min=0, max=0.15, step=0.01, description='HSA Return Rate:')\n",
    "tax_rate_widget = widgets.FloatSlider(value=0.25, min=0, max=0.5, step=0.01, description='Tax Rate:')\n",
    "hsa_withdrawal_rate_widget = widgets.FloatSlider(value=0, min=0, max=3000, step=1, description='HSA Withdrawal Rate:')\n",
    "hsa_contribution_rate_widget = widgets.FloatSlider(value=0, min=0, max=4150, step=1, description='HSA Contribution Rate:')\n",
    "\n",
    "# Display widgets\n",
    "widgets.interactive(update_graph, \n",
    "                    years=years_widget, \n",
    "                    annual_medical_expense=expense_widget, \n",
    "                    hsa_return_rate=return_widget, \n",
    "                    tax_rate=tax_rate_widget,\n",
    "                    hsa_withdrawal_rate=hsa_withdrawal_rate_widget,\n",
    "                    hsa_contribution=hsa_contribution_rate_widget)"
   ]
  }
 ],
 "metadata": {
  "kernelspec": {
   "display_name": "venv",
   "language": "python",
   "name": "python3"
  },
  "language_info": {
   "codemirror_mode": {
    "name": "ipython",
    "version": 3
   },
   "file_extension": ".py",
   "mimetype": "text/x-python",
   "name": "python",
   "nbconvert_exporter": "python",
   "pygments_lexer": "ipython3",
   "version": "3.11.2"
  }
 },
 "nbformat": 4,
 "nbformat_minor": 2
}
